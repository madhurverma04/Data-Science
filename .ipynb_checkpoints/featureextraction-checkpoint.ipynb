{
 "cells": [
  {
   "cell_type": "markdown",
   "id": "9ced92ad-d26f-4324-a207-936a5d6c6221",
   "metadata": {},
   "source": [
    "your task for this is simple \n",
    "First import the anime csv file "
   ]
  },
  {
   "cell_type": "raw",
   "id": "3092813d-5a05-49af-b4f5-f4d4f147f8df",
   "metadata": {},
   "source": [
    "this solve these questions \n",
    "1)how many rows and columns are there \n",
    "2)which anime has the hightes episode count\n",
    "3)top 5 anime by episode count\n",
    "4)make a new column for episode count\n",
    "5)make a new column for time stamp\n",
    "6)which anime has the highest score\n",
    "7)give me top 5 highest scoring anime\n",
    "8)which anime has the highest episode count\n",
    "9)animes with top 5 episode count\n",
    "10)which is the longest running anime\n"
   ]
  },
  {
   "cell_type": "code",
   "execution_count": null,
   "id": "e1aa434f-99a8-4c65-9482-bc567e72391a",
   "metadata": {},
   "outputs": [],
   "source": []
  }
 ],
 "metadata": {
  "kernelspec": {
   "display_name": "Python [conda env:base] *",
   "language": "python",
   "name": "conda-base-py"
  },
  "language_info": {
   "codemirror_mode": {
    "name": "ipython",
    "version": 3
   },
   "file_extension": ".py",
   "mimetype": "text/x-python",
   "name": "python",
   "nbconvert_exporter": "python",
   "pygments_lexer": "ipython3",
   "version": "3.12.7"
  }
 },
 "nbformat": 4,
 "nbformat_minor": 5
}
